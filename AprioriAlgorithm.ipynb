{
  "nbformat": 4,
  "nbformat_minor": 0,
  "metadata": {
    "colab": {
      "name": "19CO21-AprioriAlgorithm.ipynb",
      "provenance": []
    },
    "kernelspec": {
      "name": "python3",
      "display_name": "Python 3"
    },
    "language_info": {
      "name": "python"
    }
  },
  "cells": [
    {
      "cell_type": "markdown",
      "metadata": {
        "id": "NoowYbrXLGEv"
      },
      "source": [
        "Step 1: Importing the required libraries"
      ]
    },
    {
      "cell_type": "code",
      "metadata": {
        "id": "3_VpgOjCtUCx"
      },
      "source": [
        "import numpy as np\n",
        "import pandas as pd\n",
        "from mlxtend.frequent_patterns import apriori, association_rules"
      ],
      "execution_count": 2,
      "outputs": []
    },
    {
      "cell_type": "markdown",
      "metadata": {
        "id": "qaPw69v3LNFc"
      },
      "source": [
        "Step 2: Loading and exploring the data"
      ]
    },
    {
      "cell_type": "code",
      "metadata": {
        "colab": {
          "base_uri": "https://localhost:8080/",
          "height": 203
        },
        "id": "sJvHOJm03PL0",
        "outputId": "3ee25d33-840f-442a-8d6e-f5925338b203"
      },
      "source": [
        "# Loading the Data\n",
        "data = pd.read_excel('https://archive.ics.uci.edu/ml/machine-learning-databases/00352/Online%20Retail.xlsx')\n",
        "data.head()\n"
      ],
      "execution_count": 3,
      "outputs": [
        {
          "output_type": "execute_result",
          "data": {
            "text/html": [
              "<div>\n",
              "<style scoped>\n",
              "    .dataframe tbody tr th:only-of-type {\n",
              "        vertical-align: middle;\n",
              "    }\n",
              "\n",
              "    .dataframe tbody tr th {\n",
              "        vertical-align: top;\n",
              "    }\n",
              "\n",
              "    .dataframe thead th {\n",
              "        text-align: right;\n",
              "    }\n",
              "</style>\n",
              "<table border=\"1\" class=\"dataframe\">\n",
              "  <thead>\n",
              "    <tr style=\"text-align: right;\">\n",
              "      <th></th>\n",
              "      <th>InvoiceNo</th>\n",
              "      <th>StockCode</th>\n",
              "      <th>Description</th>\n",
              "      <th>Quantity</th>\n",
              "      <th>InvoiceDate</th>\n",
              "      <th>UnitPrice</th>\n",
              "      <th>CustomerID</th>\n",
              "      <th>Country</th>\n",
              "    </tr>\n",
              "  </thead>\n",
              "  <tbody>\n",
              "    <tr>\n",
              "      <th>0</th>\n",
              "      <td>536365</td>\n",
              "      <td>85123A</td>\n",
              "      <td>WHITE HANGING HEART T-LIGHT HOLDER</td>\n",
              "      <td>6</td>\n",
              "      <td>2010-12-01 08:26:00</td>\n",
              "      <td>2.55</td>\n",
              "      <td>17850.0</td>\n",
              "      <td>United Kingdom</td>\n",
              "    </tr>\n",
              "    <tr>\n",
              "      <th>1</th>\n",
              "      <td>536365</td>\n",
              "      <td>71053</td>\n",
              "      <td>WHITE METAL LANTERN</td>\n",
              "      <td>6</td>\n",
              "      <td>2010-12-01 08:26:00</td>\n",
              "      <td>3.39</td>\n",
              "      <td>17850.0</td>\n",
              "      <td>United Kingdom</td>\n",
              "    </tr>\n",
              "    <tr>\n",
              "      <th>2</th>\n",
              "      <td>536365</td>\n",
              "      <td>84406B</td>\n",
              "      <td>CREAM CUPID HEARTS COAT HANGER</td>\n",
              "      <td>8</td>\n",
              "      <td>2010-12-01 08:26:00</td>\n",
              "      <td>2.75</td>\n",
              "      <td>17850.0</td>\n",
              "      <td>United Kingdom</td>\n",
              "    </tr>\n",
              "    <tr>\n",
              "      <th>3</th>\n",
              "      <td>536365</td>\n",
              "      <td>84029G</td>\n",
              "      <td>KNITTED UNION FLAG HOT WATER BOTTLE</td>\n",
              "      <td>6</td>\n",
              "      <td>2010-12-01 08:26:00</td>\n",
              "      <td>3.39</td>\n",
              "      <td>17850.0</td>\n",
              "      <td>United Kingdom</td>\n",
              "    </tr>\n",
              "    <tr>\n",
              "      <th>4</th>\n",
              "      <td>536365</td>\n",
              "      <td>84029E</td>\n",
              "      <td>RED WOOLLY HOTTIE WHITE HEART.</td>\n",
              "      <td>6</td>\n",
              "      <td>2010-12-01 08:26:00</td>\n",
              "      <td>3.39</td>\n",
              "      <td>17850.0</td>\n",
              "      <td>United Kingdom</td>\n",
              "    </tr>\n",
              "  </tbody>\n",
              "</table>\n",
              "</div>"
            ],
            "text/plain": [
              "  InvoiceNo StockCode  ... CustomerID         Country\n",
              "0    536365    85123A  ...    17850.0  United Kingdom\n",
              "1    536365     71053  ...    17850.0  United Kingdom\n",
              "2    536365    84406B  ...    17850.0  United Kingdom\n",
              "3    536365    84029G  ...    17850.0  United Kingdom\n",
              "4    536365    84029E  ...    17850.0  United Kingdom\n",
              "\n",
              "[5 rows x 8 columns]"
            ]
          },
          "metadata": {},
          "execution_count": 3
        }
      ]
    },
    {
      "cell_type": "markdown",
      "metadata": {
        "id": "SxDCuKzNKxfm"
      },
      "source": [
        "Step 3: Cleaning the data"
      ]
    },
    {
      "cell_type": "code",
      "metadata": {
        "id": "Wc0avs_NCAa5"
      },
      "source": [
        "# Stripping extra spaces in the description\n",
        "data['Description'] = data['Description'].str.strip()\n",
        "\n",
        "# Dropping the rows without any invoice number\n",
        "data.dropna(axis = 0, subset =['InvoiceNo'], inplace = True)\n",
        "data['InvoiceNo'] = data['InvoiceNo'].astype('str')\n",
        "\n",
        "# Dropping all transactions which were done on credit\n",
        "data = data[~data['InvoiceNo'].str.contains('C')]\n"
      ],
      "execution_count": 8,
      "outputs": []
    },
    {
      "cell_type": "markdown",
      "metadata": {
        "id": "-5p6S-xkLPOs"
      },
      "source": [
        "Step 2: Loading and exploring the data"
      ]
    },
    {
      "cell_type": "code",
      "metadata": {
        "id": "0SnvK-WVbJlQ"
      },
      "source": [
        "def load_data(data, country):\n",
        "  basket = (data[data['Country'] == country]\n",
        "\t\t.groupby(['InvoiceNo', 'Description'])['Quantity']\n",
        "\t\t.sum().unstack().reset_index().fillna(0)\n",
        "\t\t.set_index('InvoiceNo'))\n",
        "  return basket"
      ],
      "execution_count": 5,
      "outputs": []
    },
    {
      "cell_type": "code",
      "metadata": {
        "id": "LJOL0Ts7CEN5"
      },
      "source": [
        "# Transactions done in France\n",
        "basket_france = load_data(data, \"France\")\n",
        "\n",
        "# Transactions done in the United Kingdom\n",
        "basket_uk = load_data(data, \"United Kingdom\")"
      ],
      "execution_count": 12,
      "outputs": []
    },
    {
      "cell_type": "markdown",
      "metadata": {
        "id": "9WgYvyzoLVcq"
      },
      "source": [
        "Step 5: Hot encoding the Data"
      ]
    },
    {
      "cell_type": "code",
      "metadata": {
        "id": "plaz9BLFCMDT"
      },
      "source": [
        "# Defining the hot encoding function to make the data suitable\n",
        "# for the concerned libraries\n",
        "def hot_encode(x):\n",
        "\tif(x <= 0):\n",
        "\t\treturn 0\n",
        "\tif(x >= 1):\n",
        "\t\treturn 1\n",
        "\n",
        "# Encoding the datasets\n",
        "basket_encoded = basket_france.applymap(hot_encode)\n",
        "basket_france = basket_encoded\n",
        "\n",
        "basket_encoded = basket_uk.applymap(hot_encode)\n",
        "basket_uk = basket_encoded"
      ],
      "execution_count": 13,
      "outputs": []
    },
    {
      "cell_type": "markdown",
      "metadata": {
        "id": "pfDlZcCHLbbX"
      },
      "source": [
        "Step 6: Building the models and analyzing the results"
      ]
    },
    {
      "cell_type": "code",
      "metadata": {
        "colab": {
          "base_uri": "https://localhost:8080/"
        },
        "id": "oNjMlP91CSND",
        "outputId": "e7a7907d-aae0-43ff-ecd8-0437eb4f94ac"
      },
      "source": [
        "frq_items = apriori(basket_uk, min_support = 0.01, use_colnames = True)\n",
        "rules = association_rules(frq_items, metric =\"lift\", min_threshold = 1)\n",
        "rules = rules.sort_values(['confidence', 'lift'], ascending =[False, False])\n",
        "print(rules.head())"
      ],
      "execution_count": 14,
      "outputs": [
        {
          "output_type": "stream",
          "name": "stdout",
          "text": [
            "                                       antecedents  ... conviction\n",
            "117           (BEADED CRYSTAL HEART PINK ON STICK)  ...  39.637371\n",
            "2019  (SUKI  SHOULDER BAG, JAM MAKING SET PRINTED)  ...  26.096206\n",
            "2296         (HERB MARKER THYME, HERB MARKER MINT)  ...  21.947227\n",
            "2301   (HERB MARKER ROSEMARY, HERB MARKER PARSLEY)  ...  20.444951\n",
            "2302      (HERB MARKER THYME, HERB MARKER PARSLEY)  ...  20.443842\n",
            "\n",
            "[5 rows x 9 columns]\n"
          ]
        }
      ]
    },
    {
      "cell_type": "code",
      "metadata": {
        "colab": {
          "base_uri": "https://localhost:8080/"
        },
        "id": "Wo1AyafSd7RN",
        "outputId": "e69c6d00-96c2-4944-8320-ab8a4989501a"
      },
      "source": [
        "frq_items = apriori(basket_france, min_support = 0.01, use_colnames = True)\n",
        "rules = association_rules(frq_items, metric =\"lift\", min_threshold = 1)\n",
        "rules = rules.sort_values(['confidence', 'lift'], ascending =[False, False])\n",
        "print(rules.head())"
      ],
      "execution_count": 15,
      "outputs": [
        {
          "output_type": "stream",
          "name": "stdout",
          "text": [
            "                                             antecedents  ... conviction\n",
            "67422  (ALARM CLOCK BAKELIKE CHOCOLATE, ALARM CLOCK B...  ...        inf\n",
            "67427  (DINOSAUR LUNCH BOX WITH CUTLERY, PLASTERS IN ...  ...        inf\n",
            "69602  (SKULL LUNCH BOX WITH CUTLERY, ALARM CLOCK BAK...  ...        inf\n",
            "69607  (ALARM CLOCK BAKELIKE GREEN, BUNDLE OF 3 ALPHA...  ...        inf\n",
            "71644           (ALARM CLOCK BAKELIKE GREEN, PHOTO CUBE)  ...        inf\n",
            "\n",
            "[5 rows x 9 columns]\n"
          ]
        }
      ]
    }
  ]
}